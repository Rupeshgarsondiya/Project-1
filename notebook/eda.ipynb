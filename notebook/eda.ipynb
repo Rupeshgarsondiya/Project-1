{
 "cells": [
  {
   "cell_type": "code",
   "execution_count": 1,
   "metadata": {},
   "outputs": [
    {
     "data": {
      "text/plain": [
       "'\\nauthor  : Rupesh Garsondiya\\ngithub  : @Rupeshgarsondiya\\nemail   : rupeshgarsondiya.edu@gmail.com\\n'"
      ]
     },
     "execution_count": 1,
     "metadata": {},
     "output_type": "execute_result"
    }
   ],
   "source": [
    "'''\n",
    "author  : Rupesh Garsondiya\n",
    "github  : @Rupeshgarsondiya\n",
    "email   : rupeshgarsondiya.edu@gmail.com\n",
    "'''"
   ]
  },
  {
   "cell_type": "code",
   "execution_count": 1,
   "metadata": {},
   "outputs": [
    {
     "name": "stderr",
     "output_type": "stream",
     "text": [
      "/home/rupeshgarsondiya/.local/lib/python3.10/site-packages/matplotlib/projections/__init__.py:63: UserWarning: Unable to import Axes3D. This may be due to multiple versions of Matplotlib being installed (e.g. as a system package and as a pip package). As a result, the 3D projection is not available.\n",
      "  warnings.warn(\"Unable to import Axes3D. This may be due to multiple versions of \"\n"
     ]
    }
   ],
   "source": [
    "# import required library\n",
    "import random\n",
    "import pandas as pd\n",
    "import numpy as np\n",
    "import matplotlib.pyplot as plt\n"
   ]
  },
  {
   "cell_type": "code",
   "execution_count": 8,
   "metadata": {},
   "outputs": [],
   "source": [
    "# create pandas dataframe\n",
    "df = pd.read_csv('/home/rupeshgarsondiya/workstation/lab/Project-1/Data/user_behavior_dataset.csv')\n"
   ]
  },
  {
   "cell_type": "code",
   "execution_count": 10,
   "metadata": {},
   "outputs": [
    {
     "name": "stdout",
     "output_type": "stream",
     "text": [
      "Data Overview:\n"
     ]
    },
    {
     "data": {
      "text/html": [
       "<div>\n",
       "<style scoped>\n",
       "    .dataframe tbody tr th:only-of-type {\n",
       "        vertical-align: middle;\n",
       "    }\n",
       "\n",
       "    .dataframe tbody tr th {\n",
       "        vertical-align: top;\n",
       "    }\n",
       "\n",
       "    .dataframe thead th {\n",
       "        text-align: right;\n",
       "    }\n",
       "</style>\n",
       "<table border=\"1\" class=\"dataframe\">\n",
       "  <thead>\n",
       "    <tr style=\"text-align: right;\">\n",
       "      <th></th>\n",
       "      <th>User ID</th>\n",
       "      <th>Device Model</th>\n",
       "      <th>Operating System</th>\n",
       "      <th>App Usage Time (min/day)</th>\n",
       "      <th>Screen On Time (hours/day)</th>\n",
       "      <th>Battery Drain (mAh/day)</th>\n",
       "      <th>Number of Apps Installed</th>\n",
       "      <th>Data Usage (MB/day)</th>\n",
       "      <th>Age</th>\n",
       "      <th>Gender</th>\n",
       "      <th>User Behavior Class</th>\n",
       "    </tr>\n",
       "  </thead>\n",
       "  <tbody>\n",
       "    <tr>\n",
       "      <th>660</th>\n",
       "      <td>661</td>\n",
       "      <td>Google Pixel 5</td>\n",
       "      <td>Android</td>\n",
       "      <td>50</td>\n",
       "      <td>1.5</td>\n",
       "      <td>387</td>\n",
       "      <td>12</td>\n",
       "      <td>146</td>\n",
       "      <td>59</td>\n",
       "      <td>Male</td>\n",
       "      <td>1</td>\n",
       "    </tr>\n",
       "    <tr>\n",
       "      <th>406</th>\n",
       "      <td>407</td>\n",
       "      <td>Xiaomi Mi 11</td>\n",
       "      <td>Android</td>\n",
       "      <td>147</td>\n",
       "      <td>3.2</td>\n",
       "      <td>994</td>\n",
       "      <td>33</td>\n",
       "      <td>567</td>\n",
       "      <td>25</td>\n",
       "      <td>Female</td>\n",
       "      <td>2</td>\n",
       "    </tr>\n",
       "    <tr>\n",
       "      <th>212</th>\n",
       "      <td>213</td>\n",
       "      <td>Samsung Galaxy S21</td>\n",
       "      <td>Android</td>\n",
       "      <td>133</td>\n",
       "      <td>3.4</td>\n",
       "      <td>714</td>\n",
       "      <td>38</td>\n",
       "      <td>445</td>\n",
       "      <td>25</td>\n",
       "      <td>Male</td>\n",
       "      <td>2</td>\n",
       "    </tr>\n",
       "    <tr>\n",
       "      <th>75</th>\n",
       "      <td>76</td>\n",
       "      <td>Xiaomi Mi 11</td>\n",
       "      <td>Android</td>\n",
       "      <td>229</td>\n",
       "      <td>5.7</td>\n",
       "      <td>1305</td>\n",
       "      <td>43</td>\n",
       "      <td>985</td>\n",
       "      <td>23</td>\n",
       "      <td>Female</td>\n",
       "      <td>3</td>\n",
       "    </tr>\n",
       "    <tr>\n",
       "      <th>91</th>\n",
       "      <td>92</td>\n",
       "      <td>Google Pixel 5</td>\n",
       "      <td>Android</td>\n",
       "      <td>291</td>\n",
       "      <td>4.1</td>\n",
       "      <td>1474</td>\n",
       "      <td>46</td>\n",
       "      <td>827</td>\n",
       "      <td>32</td>\n",
       "      <td>Female</td>\n",
       "      <td>3</td>\n",
       "    </tr>\n",
       "    <tr>\n",
       "      <th>432</th>\n",
       "      <td>433</td>\n",
       "      <td>Google Pixel 5</td>\n",
       "      <td>Android</td>\n",
       "      <td>534</td>\n",
       "      <td>10.4</td>\n",
       "      <td>2672</td>\n",
       "      <td>90</td>\n",
       "      <td>1702</td>\n",
       "      <td>51</td>\n",
       "      <td>Male</td>\n",
       "      <td>5</td>\n",
       "    </tr>\n",
       "    <tr>\n",
       "      <th>635</th>\n",
       "      <td>636</td>\n",
       "      <td>Samsung Galaxy S21</td>\n",
       "      <td>Android</td>\n",
       "      <td>96</td>\n",
       "      <td>3.4</td>\n",
       "      <td>1198</td>\n",
       "      <td>39</td>\n",
       "      <td>401</td>\n",
       "      <td>48</td>\n",
       "      <td>Female</td>\n",
       "      <td>2</td>\n",
       "    </tr>\n",
       "    <tr>\n",
       "      <th>243</th>\n",
       "      <td>244</td>\n",
       "      <td>Samsung Galaxy S21</td>\n",
       "      <td>Android</td>\n",
       "      <td>451</td>\n",
       "      <td>6.5</td>\n",
       "      <td>2378</td>\n",
       "      <td>69</td>\n",
       "      <td>1341</td>\n",
       "      <td>44</td>\n",
       "      <td>Male</td>\n",
       "      <td>4</td>\n",
       "    </tr>\n",
       "    <tr>\n",
       "      <th>199</th>\n",
       "      <td>200</td>\n",
       "      <td>Xiaomi Mi 11</td>\n",
       "      <td>Android</td>\n",
       "      <td>126</td>\n",
       "      <td>2.8</td>\n",
       "      <td>971</td>\n",
       "      <td>32</td>\n",
       "      <td>431</td>\n",
       "      <td>35</td>\n",
       "      <td>Female</td>\n",
       "      <td>2</td>\n",
       "    </tr>\n",
       "    <tr>\n",
       "      <th>536</th>\n",
       "      <td>537</td>\n",
       "      <td>Samsung Galaxy S21</td>\n",
       "      <td>Android</td>\n",
       "      <td>289</td>\n",
       "      <td>5.9</td>\n",
       "      <td>1528</td>\n",
       "      <td>48</td>\n",
       "      <td>915</td>\n",
       "      <td>30</td>\n",
       "      <td>Male</td>\n",
       "      <td>3</td>\n",
       "    </tr>\n",
       "  </tbody>\n",
       "</table>\n",
       "</div>"
      ],
      "text/plain": [
       "     User ID        Device Model Operating System  App Usage Time (min/day)  \\\n",
       "660      661      Google Pixel 5          Android                        50   \n",
       "406      407        Xiaomi Mi 11          Android                       147   \n",
       "212      213  Samsung Galaxy S21          Android                       133   \n",
       "75        76        Xiaomi Mi 11          Android                       229   \n",
       "91        92      Google Pixel 5          Android                       291   \n",
       "432      433      Google Pixel 5          Android                       534   \n",
       "635      636  Samsung Galaxy S21          Android                        96   \n",
       "243      244  Samsung Galaxy S21          Android                       451   \n",
       "199      200        Xiaomi Mi 11          Android                       126   \n",
       "536      537  Samsung Galaxy S21          Android                       289   \n",
       "\n",
       "     Screen On Time (hours/day)  Battery Drain (mAh/day)  \\\n",
       "660                         1.5                      387   \n",
       "406                         3.2                      994   \n",
       "212                         3.4                      714   \n",
       "75                          5.7                     1305   \n",
       "91                          4.1                     1474   \n",
       "432                        10.4                     2672   \n",
       "635                         3.4                     1198   \n",
       "243                         6.5                     2378   \n",
       "199                         2.8                      971   \n",
       "536                         5.9                     1528   \n",
       "\n",
       "     Number of Apps Installed  Data Usage (MB/day)  Age  Gender  \\\n",
       "660                        12                  146   59    Male   \n",
       "406                        33                  567   25  Female   \n",
       "212                        38                  445   25    Male   \n",
       "75                         43                  985   23  Female   \n",
       "91                         46                  827   32  Female   \n",
       "432                        90                 1702   51    Male   \n",
       "635                        39                  401   48  Female   \n",
       "243                        69                 1341   44    Male   \n",
       "199                        32                  431   35  Female   \n",
       "536                        48                  915   30    Male   \n",
       "\n",
       "     User Behavior Class  \n",
       "660                    1  \n",
       "406                    2  \n",
       "212                    2  \n",
       "75                     3  \n",
       "91                     3  \n",
       "432                    5  \n",
       "635                    2  \n",
       "243                    4  \n",
       "199                    2  \n",
       "536                    3  "
      ]
     },
     "execution_count": 10,
     "metadata": {},
     "output_type": "execute_result"
    }
   ],
   "source": [
    "# data overview\n",
    "print(\"Data Overview:\") \n",
    "df.sample(10) #  show random 10 rows of the dataframe"
   ]
  },
  {
   "cell_type": "code",
   "execution_count": 12,
   "metadata": {},
   "outputs": [
    {
     "name": "stdout",
     "output_type": "stream",
     "text": [
      "<class 'pandas.core.frame.DataFrame'>\n",
      "RangeIndex: 700 entries, 0 to 699\n",
      "Data columns (total 11 columns):\n",
      " #   Column                      Non-Null Count  Dtype  \n",
      "---  ------                      --------------  -----  \n",
      " 0   User ID                     700 non-null    int64  \n",
      " 1   Device Model                700 non-null    object \n",
      " 2   Operating System            700 non-null    object \n",
      " 3   App Usage Time (min/day)    700 non-null    int64  \n",
      " 4   Screen On Time (hours/day)  700 non-null    float64\n",
      " 5   Battery Drain (mAh/day)     700 non-null    int64  \n",
      " 6   Number of Apps Installed    700 non-null    int64  \n",
      " 7   Data Usage (MB/day)         700 non-null    int64  \n",
      " 8   Age                         700 non-null    int64  \n",
      " 9   Gender                      700 non-null    object \n",
      " 10  User Behavior Class         700 non-null    int64  \n",
      "dtypes: float64(1), int64(7), object(3)\n",
      "memory usage: 60.3+ KB\n"
     ]
    }
   ],
   "source": [
    "df.info() # in our dataset no null value"
   ]
  },
  {
   "cell_type": "code",
   "execution_count": 19,
   "metadata": {},
   "outputs": [
    {
     "name": "stdout",
     "output_type": "stream",
     "text": [
      "         User ID  App Usage Time (min/day)  Screen On Time (hours/day)  \\\n",
      "count  700.00000                700.000000                  700.000000   \n",
      "mean   350.50000                271.128571                    5.272714   \n",
      "std    202.21688                177.199484                    3.068584   \n",
      "min      1.00000                 30.000000                    1.000000   \n",
      "25%    175.75000                113.250000                    2.500000   \n",
      "50%    350.50000                227.500000                    4.900000   \n",
      "75%    525.25000                434.250000                    7.400000   \n",
      "max    700.00000                598.000000                   12.000000   \n",
      "\n",
      "       Battery Drain (mAh/day)  Number of Apps Installed  Data Usage (MB/day)  \\\n",
      "count               700.000000                700.000000           700.000000   \n",
      "mean               1525.158571                 50.681429           929.742857   \n",
      "std                 819.136414                 26.943324           640.451729   \n",
      "min                 302.000000                 10.000000           102.000000   \n",
      "25%                 722.250000                 26.000000           373.000000   \n",
      "50%                1502.500000                 49.000000           823.500000   \n",
      "75%                2229.500000                 74.000000          1341.000000   \n",
      "max                2993.000000                 99.000000          2497.000000   \n",
      "\n",
      "              Age  User Behavior Class  \n",
      "count  700.000000           700.000000  \n",
      "mean    38.482857             2.990000  \n",
      "std     12.012916             1.401476  \n",
      "min     18.000000             1.000000  \n",
      "25%     28.000000             2.000000  \n",
      "50%     38.000000             3.000000  \n",
      "75%     49.000000             4.000000  \n",
      "max     59.000000             5.000000  \n",
      "        Device Model Operating System Gender\n",
      "count            700              700    700\n",
      "unique             5                2      2\n",
      "top     Xiaomi Mi 11          Android   Male\n",
      "freq             146              554    364\n"
     ]
    }
   ],
   "source": [
    "print(df.describe())\n",
    "\n",
    "# Statistical summary of categorical columns\n",
    "print(df.describe(include='object'))\n"
   ]
  },
  {
   "cell_type": "code",
   "execution_count": 28,
   "metadata": {},
   "outputs": [
    {
     "data": {
      "image/png": "[encoded data removed]",
      "text/plain": [
       "<Figure size 640x480 with 1 Axes>"
      ]
     },
     "metadata": {},
     "output_type": "display_data"
    },
    {
     "data": {
      "image/png": "[encoded data removed]",
      "text/plain": [
       "<Figure size 640x480 with 1 Axes>"
      ]
     },
     "metadata": {},
     "output_type": "display_data"
    },
    {
     "data": {
      "image/png": "[encoded data removed]",
      "text/plain": [
       "<Figure size 640x480 with 1 Axes>"
      ]
     },
     "metadata": {},
     "output_type": "display_data"
    },
    {
     "data": {
      "image/png": "[encoded data removed]",
      "text/plain": [
       "<Figure size 640x480 with 1 Axes>"
      ]
     },
     "metadata": {},
     "output_type": "display_data"
    }
   ],
   "source": [
    "import matplotlib.pyplot as plt\n",
    "import seaborn as sns\n",
    "\n",
    "# Histogram\n",
    "df['App Usage Time (min/day)'].hist(bins=20)\n",
    "plt.show()\n",
    "df['Battery Drain (mAh/day)'].hist(bins=20)\n",
    "plt.show()\n",
    "df['Number of Apps Installed'].hist(bins=20)\n",
    "plt.show()\n",
    "df['Data Usage (MB/day)'].hist(bins=20)\n",
    "plt.show()\n",
    "\n",
    "\n"
   ]
  },
  {
   "cell_type": "code",
   "execution_count": null,
   "metadata": {},
   "outputs": [],
   "source": []
  }
 ],
 "metadata": {
  "kernelspec": {
   "display_name": "Python 3",
   "language": "python",
   "name": "python3"
  },
  "language_info": {
   "codemirror_mode": {
    "name": "ipython",
    "version": 3
   },
   "file_extension": ".py",
   "mimetype": "text/x-python",
   "name": "python",
   "nbconvert_exporter": "python",
   "pygments_lexer": "ipython3",
   "version": "3.10.12"
  }
 },
 "nbformat": 4,
 "nbformat_minor": 2
}
